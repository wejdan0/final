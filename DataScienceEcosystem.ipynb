{
 "cells": [
  {
   "cell_type": "markdown",
   "id": "bd301f06-52ac-4c91-b7df-df9836460df7",
   "metadata": {},
   "source": [
    "# Data Science Tools and Ecosystem\n"
   ]
  },
  {
   "cell_type": "markdown",
   "id": "23cedeb6-d990-4112-86f3-7632a5ee053f",
   "metadata": {},
   "source": [
    "## In this notebook, Data Science Tools and Ecosystem are summarized."
   ]
  },
  {
   "cell_type": "markdown",
   "id": "d8532e20-fb7e-4eb6-9d51-2fa097d75c6a",
   "metadata": {},
   "source": [
    "**Objectives:**\n",
    "- List popular languages for Data Science\n",
    "\n",
    "- List libraries for Data Science\n",
    "\n",
    "- List tools for Data Science"
   ]
  },
  {
   "cell_type": "markdown",
   "id": "21c9ff01-3cd0-4f65-aaae-2858f076fc5c",
   "metadata": {},
   "source": [
    "Some of the popular languages that Data Scientists use are:\n",
    "1. SQL\n",
    "2. R\n",
    "3. Python"
   ]
  },
  {
   "cell_type": "markdown",
   "id": "10231f9a-d13b-44ea-8685-a80b6137fc52",
   "metadata": {},
   "source": [
    "Some of the commonly used libraries used by Data Scientists include:\n",
    "- Numby\n",
    "- Scipy\n",
    "- Keras"
   ]
  },
  {
   "cell_type": "markdown",
   "id": "40b6e30b-db9a-4445-a167-d5e9674ef8c9",
   "metadata": {},
   "source": [
    "Data Science Tools|\n",
    "-------------------\n",
    " Apache Hadoop     \n",
    " TensorFlow        \n",
    " RStudio           \n",
    "\n"
   ]
  },
  {
   "cell_type": "markdown",
   "id": "a14ff277-2b8e-4a33-9cf4-f96b44e8c946",
   "metadata": {},
   "source": [
    "### Below are a few examples of evaluating arithmetic expressions in Python"
   ]
  },
  {
   "cell_type": "code",
   "execution_count": 1,
   "id": "56eecaba-843a-4fd5-868f-e0639e7ae748",
   "metadata": {
    "tags": []
   },
   "outputs": [
    {
     "data": {
      "text/plain": [
       "17"
      ]
     },
     "execution_count": 1,
     "metadata": {},
     "output_type": "execute_result"
    }
   ],
   "source": [
    "#This a simple arithmetic expression to mutiply then add integers\n",
    "(3*4)+5"
   ]
  },
  {
   "cell_type": "code",
   "execution_count": 4,
   "id": "4f298a3a-59a0-4158-88dc-4bf13ca6de71",
   "metadata": {
    "tags": []
   },
   "outputs": [
    {
     "data": {
      "text/plain": [
       "3.3333333333333335"
      ]
     },
     "execution_count": 4,
     "metadata": {},
     "output_type": "execute_result"
    }
   ],
   "source": [
    "#This will convert 200 minutes to hours by diving by 60\n",
    "200/60"
   ]
  },
  {
   "cell_type": "markdown",
   "id": "03e3bcba-853d-431b-adce-dbf59a0fc068",
   "metadata": {},
   "source": [
    "## Author\n",
    "Wejdan"
   ]
  },
  {
   "cell_type": "code",
   "execution_count": null,
   "id": "b223aadb-6da6-4f9b-ae5a-25b23f2665ad",
   "metadata": {},
   "outputs": [],
   "source": []
  }
 ],
 "metadata": {
  "kernelspec": {
   "display_name": "Python",
   "language": "python",
   "name": "conda-env-python-py"
  },
  "language_info": {
   "codemirror_mode": {
    "name": "ipython",
    "version": 3
   },
   "file_extension": ".py",
   "mimetype": "text/x-python",
   "name": "python",
   "nbconvert_exporter": "python",
   "pygments_lexer": "ipython3",
   "version": "3.7.12"
  }
 },
 "nbformat": 4,
 "nbformat_minor": 5
}
